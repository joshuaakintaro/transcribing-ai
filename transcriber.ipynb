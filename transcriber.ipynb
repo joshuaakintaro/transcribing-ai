{
 "cells": [
  {
   "cell_type": "code",
   "execution_count": 2,
   "metadata": {},
   "outputs": [],
   "source": [
    "import whisper"
   ]
  },
  {
   "cell_type": "code",
   "execution_count": 3,
   "metadata": {},
   "outputs": [
    {
     "name": "stderr",
     "output_type": "stream",
     "text": [
      "100%|█████████████████████████████████████| 1.51G/1.51G [00:25<00:00, 63.3MiB/s]\n"
     ]
    }
   ],
   "source": [
    "# Load the model\n",
    "model = whisper.load_model(\"turbo\")"
   ]
  },
  {
   "cell_type": "code",
   "execution_count": 4,
   "metadata": {},
   "outputs": [
    {
     "name": "stderr",
     "output_type": "stream",
     "text": [
      "c:\\Users\\joshg\\anaconda3\\envs\\whisperenv\\Lib\\site-packages\\whisper\\transcribe.py:126: UserWarning: FP16 is not supported on CPU; using FP32 instead\n",
      "  warnings.warn(\"FP16 is not supported on CPU; using FP32 instead\")\n"
     ]
    },
    {
     "name": "stdout",
     "output_type": "stream",
     "text": [
      " So you have equal time to study for all of them, equal time to do fast questions, equal time to do book questions. Don't be lazy. If you work hard now, there's a reward tomorrow. You know the reward. And it will show. Students that are missed, it will show by their results. Let's take some of that. Anybody that has any advice for you? Keep at it. And listen to what the advice is given to you. For me, I tell you, I'm looking for good mentors that will mentor me. I'm ready to learn. I'm ready to start again. I've decided that my new age is 30. So I need to start learning new things. Not putting my age in my head. So once you are ready to learn, Pastor King says one thing. Your teachers will be available. So, and that's life. The day you stop learning, you start dying. Because it's like being puffed up, you know, over nothing. So be ready to learn. So, like your teachers are waiting. Going all out there. You need to go all out there through research and through, you know, identifying people who are very good at your class. Sure. And then, you know, aligning with them and say, oh, can we have a study group or something? Where each person comes with idea discussing past questions. I tell you, it is very profitable. Fine. Yeah. It is very profitable. I can't overemphasize it. That's all I have for you. Yeah. Josh, would the classes be recorded for tomorrow? Your revision classes? Yeah. They're always recorded. Which is good. Because it's the same teachers that set the exams for you, right? Yes. So they'll be basically dropping hints of what's going to come up in the exams. Yeah. So it's worthwhile going for them. I'm taking good notes. All right. Sounds good, bro. Sounds good. Sounds good.\n"
     ]
    }
   ],
   "source": [
    "# Transcribe an audio file\n",
    "result = model.transcribe(\"Joshua Goals Feedback 2.m4a\")\n",
    "print(result[\"text\"])"
   ]
  },
  {
   "cell_type": "code",
   "execution_count": 5,
   "metadata": {},
   "outputs": [],
   "source": [
    "with open(\"josh_transcription.txt\", \"w\", encoding=\"utf-8\") as file:\n",
    "    file.write(result[\"text\"])"
   ]
  }
 ],
 "metadata": {
  "kernelspec": {
   "display_name": "whisperenv",
   "language": "python",
   "name": "python3"
  },
  "language_info": {
   "codemirror_mode": {
    "name": "ipython",
    "version": 3
   },
   "file_extension": ".py",
   "mimetype": "text/x-python",
   "name": "python",
   "nbconvert_exporter": "python",
   "pygments_lexer": "ipython3",
   "version": "3.11.11"
  }
 },
 "nbformat": 4,
 "nbformat_minor": 2
}
